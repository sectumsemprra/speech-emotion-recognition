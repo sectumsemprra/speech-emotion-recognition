{
  "nbformat": 4,
  "nbformat_minor": 0,
  "metadata": {
    "colab": {
      "provenance": []
    },
    "kernelspec": {
      "name": "python3",
      "display_name": "Python 3"
    },
    "language_info": {
      "name": "python"
    }
  },
  "cells": [
    {
      "cell_type": "code",
      "execution_count": 50,
      "metadata": {
        "colab": {
          "base_uri": "https://localhost:8080/"
        },
        "id": "UKukY20CmaXa",
        "outputId": "35036003-9c80-4077-9549-48d053b79bc5"
      },
      "outputs": [
        {
          "output_type": "stream",
          "name": "stdout",
          "text": [
            "Requirement already satisfied: funasr in /usr/local/lib/python3.12/dist-packages (1.2.7)\n",
            "Requirement already satisfied: flask-ngrok in /usr/local/lib/python3.12/dist-packages (0.0.25)\n",
            "Requirement already satisfied: flask in /usr/local/lib/python3.12/dist-packages (3.1.2)\n",
            "Requirement already satisfied: scipy>=1.4.1 in /usr/local/lib/python3.12/dist-packages (from funasr) (1.16.1)\n",
            "Requirement already satisfied: librosa in /usr/local/lib/python3.12/dist-packages (from funasr) (0.11.0)\n",
            "Requirement already satisfied: jamo in /usr/local/lib/python3.12/dist-packages (from funasr) (0.4.1)\n",
            "Requirement already satisfied: PyYAML>=5.1.2 in /usr/local/lib/python3.12/dist-packages (from funasr) (6.0.2)\n",
            "Requirement already satisfied: soundfile>=0.12.1 in /usr/local/lib/python3.12/dist-packages (from funasr) (0.13.1)\n",
            "Requirement already satisfied: kaldiio>=2.17.0 in /usr/local/lib/python3.12/dist-packages (from funasr) (2.18.1)\n",
            "Requirement already satisfied: torch-complex in /usr/local/lib/python3.12/dist-packages (from funasr) (0.4.4)\n",
            "Requirement already satisfied: sentencepiece in /usr/local/lib/python3.12/dist-packages (from funasr) (0.2.1)\n",
            "Requirement already satisfied: jieba in /usr/local/lib/python3.12/dist-packages (from funasr) (0.42.1)\n",
            "Requirement already satisfied: pytorch-wpe in /usr/local/lib/python3.12/dist-packages (from funasr) (0.0.1)\n",
            "Requirement already satisfied: editdistance>=0.5.2 in /usr/local/lib/python3.12/dist-packages (from funasr) (0.8.1)\n",
            "Requirement already satisfied: oss2 in /usr/local/lib/python3.12/dist-packages (from funasr) (2.19.1)\n",
            "Requirement already satisfied: tqdm in /usr/local/lib/python3.12/dist-packages (from funasr) (4.67.1)\n",
            "Requirement already satisfied: umap-learn in /usr/local/lib/python3.12/dist-packages (from funasr) (0.5.9.post2)\n",
            "Requirement already satisfied: jaconv in /usr/local/lib/python3.12/dist-packages (from funasr) (0.4.0)\n",
            "Requirement already satisfied: hydra-core>=1.3.2 in /usr/local/lib/python3.12/dist-packages (from funasr) (1.3.2)\n",
            "Requirement already satisfied: tensorboardX in /usr/local/lib/python3.12/dist-packages (from funasr) (2.6.4)\n",
            "Requirement already satisfied: requests in /usr/local/lib/python3.12/dist-packages (from funasr) (2.32.4)\n",
            "Requirement already satisfied: modelscope in /usr/local/lib/python3.12/dist-packages (from funasr) (1.29.1)\n",
            "Requirement already satisfied: blinker>=1.9.0 in /usr/local/lib/python3.12/dist-packages (from flask) (1.9.0)\n",
            "Requirement already satisfied: click>=8.1.3 in /usr/local/lib/python3.12/dist-packages (from flask) (8.2.1)\n",
            "Requirement already satisfied: itsdangerous>=2.2.0 in /usr/local/lib/python3.12/dist-packages (from flask) (2.2.0)\n",
            "Requirement already satisfied: jinja2>=3.1.2 in /usr/local/lib/python3.12/dist-packages (from flask) (3.1.6)\n",
            "Requirement already satisfied: markupsafe>=2.1.1 in /usr/local/lib/python3.12/dist-packages (from flask) (3.0.2)\n",
            "Requirement already satisfied: werkzeug>=3.1.0 in /usr/local/lib/python3.12/dist-packages (from flask) (3.1.3)\n",
            "Requirement already satisfied: omegaconf<2.4,>=2.2 in /usr/local/lib/python3.12/dist-packages (from hydra-core>=1.3.2->funasr) (2.3.0)\n",
            "Requirement already satisfied: antlr4-python3-runtime==4.9.* in /usr/local/lib/python3.12/dist-packages (from hydra-core>=1.3.2->funasr) (4.9.3)\n",
            "Requirement already satisfied: packaging in /usr/local/lib/python3.12/dist-packages (from hydra-core>=1.3.2->funasr) (25.0)\n",
            "Requirement already satisfied: numpy in /usr/local/lib/python3.12/dist-packages (from kaldiio>=2.17.0->funasr) (2.0.2)\n",
            "Requirement already satisfied: cffi>=1.0 in /usr/local/lib/python3.12/dist-packages (from soundfile>=0.12.1->funasr) (1.17.1)\n",
            "Requirement already satisfied: audioread>=2.1.9 in /usr/local/lib/python3.12/dist-packages (from librosa->funasr) (3.0.1)\n",
            "Requirement already satisfied: numba>=0.51.0 in /usr/local/lib/python3.12/dist-packages (from librosa->funasr) (0.60.0)\n",
            "Requirement already satisfied: scikit-learn>=1.1.0 in /usr/local/lib/python3.12/dist-packages (from librosa->funasr) (1.6.1)\n",
            "Requirement already satisfied: joblib>=1.0 in /usr/local/lib/python3.12/dist-packages (from librosa->funasr) (1.5.1)\n",
            "Requirement already satisfied: decorator>=4.3.0 in /usr/local/lib/python3.12/dist-packages (from librosa->funasr) (4.4.2)\n",
            "Requirement already satisfied: pooch>=1.1 in /usr/local/lib/python3.12/dist-packages (from librosa->funasr) (1.8.2)\n",
            "Requirement already satisfied: soxr>=0.3.2 in /usr/local/lib/python3.12/dist-packages (from librosa->funasr) (0.5.0.post1)\n",
            "Requirement already satisfied: typing_extensions>=4.1.1 in /usr/local/lib/python3.12/dist-packages (from librosa->funasr) (4.15.0)\n",
            "Requirement already satisfied: lazy_loader>=0.1 in /usr/local/lib/python3.12/dist-packages (from librosa->funasr) (0.4)\n",
            "Requirement already satisfied: msgpack>=1.0 in /usr/local/lib/python3.12/dist-packages (from librosa->funasr) (1.1.1)\n",
            "Requirement already satisfied: filelock in /usr/local/lib/python3.12/dist-packages (from modelscope->funasr) (3.19.1)\n",
            "Requirement already satisfied: setuptools in /usr/local/lib/python3.12/dist-packages (from modelscope->funasr) (75.2.0)\n",
            "Requirement already satisfied: urllib3>=1.26 in /usr/local/lib/python3.12/dist-packages (from modelscope->funasr) (2.5.0)\n",
            "Requirement already satisfied: charset_normalizer<4,>=2 in /usr/local/lib/python3.12/dist-packages (from requests->funasr) (3.4.3)\n",
            "Requirement already satisfied: idna<4,>=2.5 in /usr/local/lib/python3.12/dist-packages (from requests->funasr) (3.10)\n",
            "Requirement already satisfied: certifi>=2017.4.17 in /usr/local/lib/python3.12/dist-packages (from requests->funasr) (2025.8.3)\n",
            "Requirement already satisfied: crcmod>=1.7 in /usr/local/lib/python3.12/dist-packages (from oss2->funasr) (1.7)\n",
            "Requirement already satisfied: pycryptodome>=3.4.7 in /usr/local/lib/python3.12/dist-packages (from oss2->funasr) (3.23.0)\n",
            "Requirement already satisfied: aliyun-python-sdk-kms>=2.4.1 in /usr/local/lib/python3.12/dist-packages (from oss2->funasr) (2.16.5)\n",
            "Requirement already satisfied: aliyun-python-sdk-core>=2.13.12 in /usr/local/lib/python3.12/dist-packages (from oss2->funasr) (2.16.0)\n",
            "Requirement already satisfied: six in /usr/local/lib/python3.12/dist-packages (from oss2->funasr) (1.17.0)\n",
            "Requirement already satisfied: protobuf>=3.20 in /usr/local/lib/python3.12/dist-packages (from tensorboardX->funasr) (5.29.5)\n",
            "Requirement already satisfied: pynndescent>=0.5 in /usr/local/lib/python3.12/dist-packages (from umap-learn->funasr) (0.5.13)\n",
            "Requirement already satisfied: jmespath<1.0.0,>=0.9.3 in /usr/local/lib/python3.12/dist-packages (from aliyun-python-sdk-core>=2.13.12->oss2->funasr) (0.10.0)\n",
            "Requirement already satisfied: cryptography>=3.0.0 in /usr/local/lib/python3.12/dist-packages (from aliyun-python-sdk-core>=2.13.12->oss2->funasr) (43.0.3)\n",
            "Requirement already satisfied: pycparser in /usr/local/lib/python3.12/dist-packages (from cffi>=1.0->soundfile>=0.12.1->funasr) (2.22)\n",
            "Requirement already satisfied: llvmlite<0.44,>=0.43.0dev0 in /usr/local/lib/python3.12/dist-packages (from numba>=0.51.0->librosa->funasr) (0.43.0)\n",
            "Requirement already satisfied: platformdirs>=2.5.0 in /usr/local/lib/python3.12/dist-packages (from pooch>=1.1->librosa->funasr) (4.3.8)\n",
            "Requirement already satisfied: threadpoolctl>=3.1.0 in /usr/local/lib/python3.12/dist-packages (from scikit-learn>=1.1.0->librosa->funasr) (3.6.0)\n"
          ]
        }
      ],
      "source": [
        "# Install dependencies\n",
        "!pip install -U funasr flask-ngrok flask\n",
        "\n",
        "# Import libraries\n",
        "import os\n",
        "import json\n",
        "import numpy as np\n",
        "from flask import Flask, request, jsonify\n",
        "from funasr import AutoModel\n"
      ]
    },
    {
      "cell_type": "code",
      "source": [
        "# Load model globally (only once)\n",
        "model = AutoModel(model=\"emotion2vec_plus_large\")\n",
        "print(\"✅ Model loaded successfully!\")\n"
      ],
      "metadata": {
        "colab": {
          "base_uri": "https://localhost:8080/"
        },
        "id": "lC8EYjkpmjff",
        "outputId": "a2d48b0a-8b35-46ad-e69a-d97bcae84ede"
      },
      "execution_count": 51,
      "outputs": [
        {
          "output_type": "stream",
          "name": "stdout",
          "text": [
            "funasr version: 1.2.7.\n",
            "Check update of funasr, and it would cost few times. You may disable it by set `disable_update=True` in AutoModel\n",
            "You are using the latest version of funasr-1.2.7\n",
            "Downloading Model from https://www.modelscope.cn to directory: /root/.cache/modelscope/hub/models/iic/emotion2vec_plus_large\n"
          ]
        },
        {
          "output_type": "stream",
          "name": "stderr",
          "text": [
            "WARNING:root:trust_remote_code: False\n"
          ]
        },
        {
          "output_type": "stream",
          "name": "stdout",
          "text": [
            "Warning, miss key in ckpt: modality_encoders.AUDIO.decoder.blocks.0.0.weight, /root/.cache/modelscope/hub/models/iic/emotion2vec_plus_large/model.pt\n",
            "Warning, miss key in ckpt: modality_encoders.AUDIO.decoder.blocks.0.0.bias, /root/.cache/modelscope/hub/models/iic/emotion2vec_plus_large/model.pt\n",
            "Warning, miss key in ckpt: modality_encoders.AUDIO.decoder.blocks.1.0.weight, /root/.cache/modelscope/hub/models/iic/emotion2vec_plus_large/model.pt\n",
            "Warning, miss key in ckpt: modality_encoders.AUDIO.decoder.blocks.1.0.bias, /root/.cache/modelscope/hub/models/iic/emotion2vec_plus_large/model.pt\n",
            "Warning, miss key in ckpt: modality_encoders.AUDIO.decoder.blocks.2.0.weight, /root/.cache/modelscope/hub/models/iic/emotion2vec_plus_large/model.pt\n",
            "Warning, miss key in ckpt: modality_encoders.AUDIO.decoder.blocks.2.0.bias, /root/.cache/modelscope/hub/models/iic/emotion2vec_plus_large/model.pt\n",
            "Warning, miss key in ckpt: modality_encoders.AUDIO.decoder.blocks.3.0.weight, /root/.cache/modelscope/hub/models/iic/emotion2vec_plus_large/model.pt\n",
            "Warning, miss key in ckpt: modality_encoders.AUDIO.decoder.blocks.3.0.bias, /root/.cache/modelscope/hub/models/iic/emotion2vec_plus_large/model.pt\n",
            "Warning, miss key in ckpt: modality_encoders.AUDIO.decoder.proj.weight, /root/.cache/modelscope/hub/models/iic/emotion2vec_plus_large/model.pt\n",
            "Warning, miss key in ckpt: modality_encoders.AUDIO.decoder.proj.bias, /root/.cache/modelscope/hub/models/iic/emotion2vec_plus_large/model.pt\n",
            "✅ Model loaded successfully!\n"
          ]
        }
      ]
    },
    {
      "cell_type": "code",
      "source": [
        "app = Flask(__name__)\n",
        "\n",
        "@app.route(\"/predict\", methods=[\"POST\"])\n",
        "def predict():\n",
        "    try:\n",
        "        file = request.files[\"audio\"]\n",
        "        file_path = \"temp.wav\"\n",
        "        file.save(file_path)\n",
        "\n",
        "        # Run model\n",
        "        result = model.generate(file_path, granularity=\"utterance\")\n",
        "        data = result[0]\n",
        "\n",
        "        if 'predictions' in data and 'scores' in data:\n",
        "            emotions = data['predictions']\n",
        "            scores = data['scores']\n",
        "        elif 'labels' in data and 'scores' in data:\n",
        "            emotions = [e.split('/')[-1] for e in data['labels']]\n",
        "            scores = data['scores']\n",
        "        else:\n",
        "            return jsonify({\"error\": \"No 'labels' or 'predictions' found\"}), 500\n",
        "\n",
        "        best_idx = int(np.argmax(scores))\n",
        "        best_emotion = emotions[best_idx]\n",
        "        confidence = float(scores[best_idx])\n",
        "        top_emotions = sorted(zip(emotions, scores), key=lambda x: x[1], reverse=True)\n",
        "        top_emotions_json = [{\"emotion\": e, \"score\": float(s)} for e, s in top_emotions]\n",
        "\n",
        "        return jsonify({\n",
        "            \"emotion\": best_emotion,\n",
        "            \"confidence\": confidence,\n",
        "            \"topEmotions\": top_emotions_json\n",
        "        })\n",
        "\n",
        "    except Exception as e:\n",
        "        return jsonify({\"error\": str(e)}), 500\n"
      ],
      "metadata": {
        "id": "r03yVPJEnWAE"
      },
      "execution_count": 52,
      "outputs": []
    },
    {
      "cell_type": "code",
      "source": [
        "# Install pyngrok\n",
        "!pip install pyngrok\n",
        "from pyngrok import ngrok\n",
        "\n",
        "# Set ngrok authtoken\n",
        "# Replace \"YOUR_AUTH_TOKEN\" with your actual ngrok authentication token\n",
        "ngrok.set_auth_token(\"31y3EqKzzZqEmFcksJJiO0jFShJ_76ywiqbQqegsSHLULmtL\")\n",
        "\n",
        "# Start tunnel\n",
        "public_url = ngrok.connect(5001)\n",
        "print(\"🔗 Public URL:\", public_url)\n",
        "\n",
        "# Run Flask app\n",
        "app.run(port=5001)"
      ],
      "metadata": {
        "colab": {
          "base_uri": "https://localhost:8080/"
        },
        "id": "U2toJhm9nju4",
        "outputId": "52c7f419-43fc-4e84-9240-e746d00c0cd7"
      },
      "execution_count": 56,
      "outputs": [
        {
          "output_type": "stream",
          "name": "stdout",
          "text": [
            "Requirement already satisfied: pyngrok in /usr/local/lib/python3.12/dist-packages (7.3.0)\n",
            "Requirement already satisfied: PyYAML>=5.1 in /usr/local/lib/python3.12/dist-packages (from pyngrok) (6.0.2)\n",
            "🔗 Public URL: NgrokTunnel: \"https://aecd474dfb30.ngrok-free.app\" -> \"http://localhost:5001\"\n",
            " * Serving Flask app '__main__'\n",
            " * Debug mode: off\n"
          ]
        },
        {
          "output_type": "stream",
          "name": "stderr",
          "text": [
            "INFO:werkzeug:\u001b[31m\u001b[1mWARNING: This is a development server. Do not use it in a production deployment. Use a production WSGI server instead.\u001b[0m\n",
            " * Running on http://127.0.0.1:5001\n",
            "INFO:werkzeug:\u001b[33mPress CTRL+C to quit\u001b[0m\n",
            "rtf_avg: 5.669: 100%|\u001b[34m██████████\u001b[0m| 1/1 [00:11<00:00, 11.35s/it]\n",
            "INFO:werkzeug:127.0.0.1 - - [29/Aug/2025 16:32:18] \"POST /predict HTTP/1.1\" 200 -\n",
            "rtf_avg: 3.587: 100%|\u001b[34m██████████\u001b[0m| 1/1 [00:07<00:00,  7.18s/it]\n",
            "INFO:werkzeug:127.0.0.1 - - [29/Aug/2025 16:36:44] \"POST /predict HTTP/1.1\" 200 -\n",
            "rtf_avg: 3.151: 100%|\u001b[34m██████████\u001b[0m| 1/1 [00:06<00:00,  6.31s/it]\n",
            "INFO:werkzeug:127.0.0.1 - - [29/Aug/2025 16:39:00] \"POST /predict HTTP/1.1\" 200 -\n",
            "rtf_avg: 0.621: 100%|\u001b[34m██████████\u001b[0m| 1/1 [00:04<00:00,  4.11s/it]\n",
            "INFO:werkzeug:127.0.0.1 - - [29/Aug/2025 16:55:58] \"POST /predict HTTP/1.1\" 200 -\n"
          ]
        }
      ]
    },
    {
      "cell_type": "code",
      "source": [
        "!wget https://bin.equinox.io/c/4VmDzA7iaHb/ngrok-stable-linux-amd64.zip\n",
        "!unzip ngrok-stable-linux-amd64.zip\n",
        "!mv ngrok /usr/local/bin/ngrok\n"
      ],
      "metadata": {
        "colab": {
          "base_uri": "https://localhost:8080/"
        },
        "id": "Dh0rSUtkhQxb",
        "outputId": "4afc5bd1-0059-48e0-9206-2b23f59508d4"
      },
      "execution_count": 36,
      "outputs": [
        {
          "output_type": "stream",
          "name": "stdout",
          "text": [
            "--2025-08-29 16:08:39--  https://bin.equinox.io/c/4VmDzA7iaHb/ngrok-stable-linux-amd64.zip\n",
            "Resolving bin.equinox.io (bin.equinox.io)... 35.71.179.82, 75.2.60.68, 99.83.220.108, ...\n",
            "Connecting to bin.equinox.io (bin.equinox.io)|35.71.179.82|:443... connected.\n",
            "HTTP request sent, awaiting response... 200 OK\n",
            "Length: 13921656 (13M) [application/octet-stream]\n",
            "Saving to: ‘ngrok-stable-linux-amd64.zip.2’\n",
            "\n",
            "ngrok-stable-linux- 100%[===================>]  13.28M  18.6MB/s    in 0.7s    \n",
            "\n",
            "2025-08-29 16:08:40 (18.6 MB/s) - ‘ngrok-stable-linux-amd64.zip.2’ saved [13921656/13921656]\n",
            "\n",
            "Archive:  ngrok-stable-linux-amd64.zip\n",
            "  inflating: ngrok                   \n"
          ]
        }
      ]
    },
    {
      "cell_type": "code",
      "source": [
        "!ngrok authtoken 31y3EqKzzZqEmFcksJJiO0jFShJ_76ywiqbQqegsSHLULmtL\n"
      ],
      "metadata": {
        "colab": {
          "base_uri": "https://localhost:8080/"
        },
        "id": "XVmAfmiEhSti",
        "outputId": "9a0c8160-f4e4-4667-fbc5-58c35cc5dc3a"
      },
      "execution_count": 37,
      "outputs": [
        {
          "output_type": "stream",
          "name": "stdout",
          "text": [
            "Authtoken saved to configuration file: /root/.ngrok2/ngrok.yml\n"
          ]
        }
      ]
    },
    {
      "cell_type": "code",
      "source": [
        "# Step 5: Create Flask app\n",
        "app = Flask(__name__)\n",
        "from flask_cors import CORS\n",
        "CORS(app)  # optional, allows requests from any origin\n",
        "\n",
        "@app.route(\"/predict\", methods=[\"POST\"])\n",
        "def predict():\n",
        "    try:\n",
        "        file = request.files[\"audio\"]\n",
        "        file_path = \"temp.wav\"\n",
        "        file.save(file_path)\n",
        "\n",
        "        # Run inference\n",
        "        result = model.generate(file_path, granularity=\"utterance\")\n",
        "\n",
        "        # Flexible extraction of labels\n",
        "        data = result[0]\n",
        "        if 'predictions' in data and 'scores' in data:\n",
        "            emotions = data['predictions']\n",
        "            scores = data['scores']\n",
        "        elif 'labels' in data and 'scores' in data:\n",
        "            emotions = [e.split('/')[-1] for e in data['labels']]  # remove Chinese\n",
        "            scores = data['scores']\n",
        "        else:\n",
        "            return jsonify({\"error\": \"No 'labels' or 'predictions' found\"}), 500\n",
        "\n",
        "        best_idx = int(np.argmax(scores))\n",
        "        best_emotion = emotions[best_idx]\n",
        "        confidence = float(scores[best_idx])\n",
        "        top_emotions = sorted(zip(emotions, scores), key=lambda x: x[1], reverse=True)\n",
        "        top_emotions_json = [{\"emotion\": e, \"score\": float(s)} for e, s in top_emotions]\n",
        "\n",
        "        return jsonify({\n",
        "            \"emotion\": best_emotion,\n",
        "            \"confidence\": confidence,\n",
        "            \"topEmotions\": top_emotions_json\n",
        "        })\n",
        "\n",
        "    except Exception as e:\n",
        "        return jsonify({\"error\": str(e)}), 500"
      ],
      "metadata": {
        "id": "hD4zcLZcr3oX"
      },
      "execution_count": 38,
      "outputs": []
    },
    {
      "cell_type": "code",
      "source": [
        "def run_app():\n",
        "    app.run(port=5000)\n",
        "\n",
        "threading.Thread(target=run_app).start()\n"
      ],
      "metadata": {
        "colab": {
          "base_uri": "https://localhost:8080/"
        },
        "id": "mk0m4OnSt8YD",
        "outputId": "7998b819-3048-4572-c3cb-0d59c717aef7"
      },
      "execution_count": 39,
      "outputs": [
        {
          "output_type": "stream",
          "name": "stdout",
          "text": [
            " * Serving Flask app '__main__'\n"
          ]
        }
      ]
    },
    {
      "cell_type": "code",
      "source": [
        "!which ngrok\n"
      ],
      "metadata": {
        "colab": {
          "base_uri": "https://localhost:8080/"
        },
        "id": "-v7ohoBnm3Ob",
        "outputId": "bc3de107-c6f4-459b-a0af-bf53f7ee88c1"
      },
      "execution_count": 48,
      "outputs": [
        {
          "output_type": "stream",
          "name": "stdout",
          "text": [
            "/usr/local/bin/ngrok\n"
          ]
        }
      ]
    },
    {
      "cell_type": "code",
      "source": [
        "import subprocess\n",
        "import time\n",
        "import requests\n",
        "\n",
        "# Start ngrok\n",
        "ngrok_path = \"/usr/local/bin/ngrok\"\n",
        "port = \"5000\"\n",
        "\n",
        "# Kill any previous ngrok sessions\n",
        "subprocess.run([\"pkill\", \"-f\", \"ngrok\"], stdout=subprocess.PIPE, stderr=subprocess.PIPE)\n",
        "\n",
        "# Start ngrok\n",
        "ngrok = subprocess.Popen([ngrok_path, \"http\", port])\n",
        "print(f\"Started ngrok with PID {ngrok.pid}\")\n",
        "\n",
        "# Wait for ngrok to initialize\n",
        "time.sleep(5)\n",
        "\n",
        "# Fetch the public URL\n",
        "try:\n",
        "    response = requests.get(\"http://127.0.0.1:4040/api/tunnels\")\n",
        "    tunnels = response.json()[\"tunnels\"]\n",
        "    public_url = tunnels[0][\"public_url\"]\n",
        "    print(\"Your public URL:\", public_url)\n",
        "except Exception as e:\n",
        "    print(\"Error getting public URL:\", e)\n"
      ],
      "metadata": {
        "colab": {
          "base_uri": "https://localhost:8080/"
        },
        "id": "qHivyK7sn7jp",
        "outputId": "c7c0bdd1-aebb-418f-a906-79c7cdac4fc6"
      },
      "execution_count": 49,
      "outputs": [
        {
          "output_type": "stream",
          "name": "stdout",
          "text": [
            "Started ngrok with PID 38797\n",
            "Error getting public URL: HTTPConnectionPool(host='127.0.0.1', port=4040): Max retries exceeded with url: /api/tunnels (Caused by NewConnectionError('<urllib3.connection.HTTPConnection object at 0x7d0ac503b230>: Failed to establish a new connection: [Errno 111] Connection refused'))\n"
          ]
        }
      ]
    }
  ]
}