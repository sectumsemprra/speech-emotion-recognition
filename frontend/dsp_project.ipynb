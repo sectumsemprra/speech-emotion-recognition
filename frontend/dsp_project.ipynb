{
  "nbformat": 4,
  "nbformat_minor": 0,
  "metadata": {
    "colab": {
      "provenance": []
    },
    "kernelspec": {
      "name": "python3",
      "display_name": "Python 3"
    },
    "language_info": {
      "name": "python"
    }
  },
  "cells": [
    {
      "cell_type": "code",
      "execution_count": 57,
      "metadata": {
        "colab": {
          "base_uri": "https://localhost:8080/"
        },
        "id": "UKukY20CmaXa",
        "outputId": "6ad9991b-d6b7-4956-ef07-e3004d5d327b"
      },
      "outputs": [
        {
          "output_type": "stream",
          "name": "stdout",
          "text": [
            "Requirement already satisfied: funasr in /usr/local/lib/python3.12/dist-packages (1.2.7)\n",
            "Requirement already satisfied: flask-ngrok in /usr/local/lib/python3.12/dist-packages (0.0.25)\n",
            "Requirement already satisfied: flask in /usr/local/lib/python3.12/dist-packages (3.1.2)\n",
            "Requirement already satisfied: scipy>=1.4.1 in /usr/local/lib/python3.12/dist-packages (from funasr) (1.16.1)\n",
            "Requirement already satisfied: librosa in /usr/local/lib/python3.12/dist-packages (from funasr) (0.11.0)\n",
            "Requirement already satisfied: jamo in /usr/local/lib/python3.12/dist-packages (from funasr) (0.4.1)\n",
            "Requirement already satisfied: PyYAML>=5.1.2 in /usr/local/lib/python3.12/dist-packages (from funasr) (6.0.2)\n",
            "Requirement already satisfied: soundfile>=0.12.1 in /usr/local/lib/python3.12/dist-packages (from funasr) (0.13.1)\n",
            "Requirement already satisfied: kaldiio>=2.17.0 in /usr/local/lib/python3.12/dist-packages (from funasr) (2.18.1)\n",
            "Requirement already satisfied: torch-complex in /usr/local/lib/python3.12/dist-packages (from funasr) (0.4.4)\n",
            "Requirement already satisfied: sentencepiece in /usr/local/lib/python3.12/dist-packages (from funasr) (0.2.1)\n",
            "Requirement already satisfied: jieba in /usr/local/lib/python3.12/dist-packages (from funasr) (0.42.1)\n",
            "Requirement already satisfied: pytorch-wpe in /usr/local/lib/python3.12/dist-packages (from funasr) (0.0.1)\n",
            "Requirement already satisfied: editdistance>=0.5.2 in /usr/local/lib/python3.12/dist-packages (from funasr) (0.8.1)\n",
            "Requirement already satisfied: oss2 in /usr/local/lib/python3.12/dist-packages (from funasr) (2.19.1)\n",
            "Requirement already satisfied: tqdm in /usr/local/lib/python3.12/dist-packages (from funasr) (4.67.1)\n",
            "Requirement already satisfied: umap-learn in /usr/local/lib/python3.12/dist-packages (from funasr) (0.5.9.post2)\n",
            "Requirement already satisfied: jaconv in /usr/local/lib/python3.12/dist-packages (from funasr) (0.4.0)\n",
            "Requirement already satisfied: hydra-core>=1.3.2 in /usr/local/lib/python3.12/dist-packages (from funasr) (1.3.2)\n",
            "Requirement already satisfied: tensorboardX in /usr/local/lib/python3.12/dist-packages (from funasr) (2.6.4)\n",
            "Requirement already satisfied: requests in /usr/local/lib/python3.12/dist-packages (from funasr) (2.32.4)\n",
            "Requirement already satisfied: modelscope in /usr/local/lib/python3.12/dist-packages (from funasr) (1.29.1)\n",
            "Requirement already satisfied: blinker>=1.9.0 in /usr/local/lib/python3.12/dist-packages (from flask) (1.9.0)\n",
            "Requirement already satisfied: click>=8.1.3 in /usr/local/lib/python3.12/dist-packages (from flask) (8.2.1)\n",
            "Requirement already satisfied: itsdangerous>=2.2.0 in /usr/local/lib/python3.12/dist-packages (from flask) (2.2.0)\n",
            "Requirement already satisfied: jinja2>=3.1.2 in /usr/local/lib/python3.12/dist-packages (from flask) (3.1.6)\n",
            "Requirement already satisfied: markupsafe>=2.1.1 in /usr/local/lib/python3.12/dist-packages (from flask) (3.0.2)\n",
            "Requirement already satisfied: werkzeug>=3.1.0 in /usr/local/lib/python3.12/dist-packages (from flask) (3.1.3)\n",
            "Requirement already satisfied: omegaconf<2.4,>=2.2 in /usr/local/lib/python3.12/dist-packages (from hydra-core>=1.3.2->funasr) (2.3.0)\n",
            "Requirement already satisfied: antlr4-python3-runtime==4.9.* in /usr/local/lib/python3.12/dist-packages (from hydra-core>=1.3.2->funasr) (4.9.3)\n",
            "Requirement already satisfied: packaging in /usr/local/lib/python3.12/dist-packages (from hydra-core>=1.3.2->funasr) (25.0)\n",
            "Requirement already satisfied: numpy in /usr/local/lib/python3.12/dist-packages (from kaldiio>=2.17.0->funasr) (2.0.2)\n",
            "Requirement already satisfied: cffi>=1.0 in /usr/local/lib/python3.12/dist-packages (from soundfile>=0.12.1->funasr) (1.17.1)\n",
            "Requirement already satisfied: audioread>=2.1.9 in /usr/local/lib/python3.12/dist-packages (from librosa->funasr) (3.0.1)\n",
            "Requirement already satisfied: numba>=0.51.0 in /usr/local/lib/python3.12/dist-packages (from librosa->funasr) (0.60.0)\n",
            "Requirement already satisfied: scikit-learn>=1.1.0 in /usr/local/lib/python3.12/dist-packages (from librosa->funasr) (1.6.1)\n",
            "Requirement already satisfied: joblib>=1.0 in /usr/local/lib/python3.12/dist-packages (from librosa->funasr) (1.5.1)\n",
            "Requirement already satisfied: decorator>=4.3.0 in /usr/local/lib/python3.12/dist-packages (from librosa->funasr) (4.4.2)\n",
            "Requirement already satisfied: pooch>=1.1 in /usr/local/lib/python3.12/dist-packages (from librosa->funasr) (1.8.2)\n",
            "Requirement already satisfied: soxr>=0.3.2 in /usr/local/lib/python3.12/dist-packages (from librosa->funasr) (0.5.0.post1)\n",
            "Requirement already satisfied: typing_extensions>=4.1.1 in /usr/local/lib/python3.12/dist-packages (from librosa->funasr) (4.15.0)\n",
            "Requirement already satisfied: lazy_loader>=0.1 in /usr/local/lib/python3.12/dist-packages (from librosa->funasr) (0.4)\n",
            "Requirement already satisfied: msgpack>=1.0 in /usr/local/lib/python3.12/dist-packages (from librosa->funasr) (1.1.1)\n",
            "Requirement already satisfied: filelock in /usr/local/lib/python3.12/dist-packages (from modelscope->funasr) (3.19.1)\n",
            "Requirement already satisfied: setuptools in /usr/local/lib/python3.12/dist-packages (from modelscope->funasr) (75.2.0)\n",
            "Requirement already satisfied: urllib3>=1.26 in /usr/local/lib/python3.12/dist-packages (from modelscope->funasr) (2.5.0)\n",
            "Requirement already satisfied: charset_normalizer<4,>=2 in /usr/local/lib/python3.12/dist-packages (from requests->funasr) (3.4.3)\n",
            "Requirement already satisfied: idna<4,>=2.5 in /usr/local/lib/python3.12/dist-packages (from requests->funasr) (3.10)\n",
            "Requirement already satisfied: certifi>=2017.4.17 in /usr/local/lib/python3.12/dist-packages (from requests->funasr) (2025.8.3)\n",
            "Requirement already satisfied: crcmod>=1.7 in /usr/local/lib/python3.12/dist-packages (from oss2->funasr) (1.7)\n",
            "Requirement already satisfied: pycryptodome>=3.4.7 in /usr/local/lib/python3.12/dist-packages (from oss2->funasr) (3.23.0)\n",
            "Requirement already satisfied: aliyun-python-sdk-kms>=2.4.1 in /usr/local/lib/python3.12/dist-packages (from oss2->funasr) (2.16.5)\n",
            "Requirement already satisfied: aliyun-python-sdk-core>=2.13.12 in /usr/local/lib/python3.12/dist-packages (from oss2->funasr) (2.16.0)\n",
            "Requirement already satisfied: six in /usr/local/lib/python3.12/dist-packages (from oss2->funasr) (1.17.0)\n",
            "Requirement already satisfied: protobuf>=3.20 in /usr/local/lib/python3.12/dist-packages (from tensorboardX->funasr) (5.29.5)\n",
            "Requirement already satisfied: pynndescent>=0.5 in /usr/local/lib/python3.12/dist-packages (from umap-learn->funasr) (0.5.13)\n",
            "Requirement already satisfied: jmespath<1.0.0,>=0.9.3 in /usr/local/lib/python3.12/dist-packages (from aliyun-python-sdk-core>=2.13.12->oss2->funasr) (0.10.0)\n",
            "Requirement already satisfied: cryptography>=3.0.0 in /usr/local/lib/python3.12/dist-packages (from aliyun-python-sdk-core>=2.13.12->oss2->funasr) (43.0.3)\n",
            "Requirement already satisfied: pycparser in /usr/local/lib/python3.12/dist-packages (from cffi>=1.0->soundfile>=0.12.1->funasr) (2.22)\n",
            "Requirement already satisfied: llvmlite<0.44,>=0.43.0dev0 in /usr/local/lib/python3.12/dist-packages (from numba>=0.51.0->librosa->funasr) (0.43.0)\n",
            "Requirement already satisfied: platformdirs>=2.5.0 in /usr/local/lib/python3.12/dist-packages (from pooch>=1.1->librosa->funasr) (4.3.8)\n",
            "Requirement already satisfied: threadpoolctl>=3.1.0 in /usr/local/lib/python3.12/dist-packages (from scikit-learn>=1.1.0->librosa->funasr) (3.6.0)\n"
          ]
        }
      ],
      "source": [
        "# Install dependencies\n",
        "!pip install -U funasr flask-ngrok flask\n",
        "\n",
        "# Import libraries\n",
        "import os\n",
        "import json\n",
        "import numpy as np\n",
        "from flask import Flask, request, jsonify\n",
        "from funasr import AutoModel\n"
      ]
    },
    {
      "cell_type": "code",
      "source": [
        "# Load model globally (only once)\n",
        "model = AutoModel(model=\"emotion2vec_plus_large\")\n",
        "print(\"✅ Model loaded successfully!\")\n"
      ],
      "metadata": {
        "colab": {
          "base_uri": "https://localhost:8080/"
        },
        "id": "lC8EYjkpmjff",
        "outputId": "5124c20f-1c15-42d3-f76c-ac2d7819845c"
      },
      "execution_count": 58,
      "outputs": [
        {
          "output_type": "stream",
          "name": "stdout",
          "text": [
            "funasr version: 1.2.7.\n",
            "Check update of funasr, and it would cost few times. You may disable it by set `disable_update=True` in AutoModel\n",
            "You are using the latest version of funasr-1.2.7\n",
            "Downloading Model from https://www.modelscope.cn to directory: /root/.cache/modelscope/hub/models/iic/emotion2vec_plus_large\n"
          ]
        },
        {
          "output_type": "stream",
          "name": "stderr",
          "text": [
            "WARNING:root:trust_remote_code: False\n"
          ]
        },
        {
          "output_type": "stream",
          "name": "stdout",
          "text": [
            "Warning, miss key in ckpt: modality_encoders.AUDIO.decoder.blocks.0.0.weight, /root/.cache/modelscope/hub/models/iic/emotion2vec_plus_large/model.pt\n",
            "Warning, miss key in ckpt: modality_encoders.AUDIO.decoder.blocks.0.0.bias, /root/.cache/modelscope/hub/models/iic/emotion2vec_plus_large/model.pt\n",
            "Warning, miss key in ckpt: modality_encoders.AUDIO.decoder.blocks.1.0.weight, /root/.cache/modelscope/hub/models/iic/emotion2vec_plus_large/model.pt\n",
            "Warning, miss key in ckpt: modality_encoders.AUDIO.decoder.blocks.1.0.bias, /root/.cache/modelscope/hub/models/iic/emotion2vec_plus_large/model.pt\n",
            "Warning, miss key in ckpt: modality_encoders.AUDIO.decoder.blocks.2.0.weight, /root/.cache/modelscope/hub/models/iic/emotion2vec_plus_large/model.pt\n",
            "Warning, miss key in ckpt: modality_encoders.AUDIO.decoder.blocks.2.0.bias, /root/.cache/modelscope/hub/models/iic/emotion2vec_plus_large/model.pt\n",
            "Warning, miss key in ckpt: modality_encoders.AUDIO.decoder.blocks.3.0.weight, /root/.cache/modelscope/hub/models/iic/emotion2vec_plus_large/model.pt\n",
            "Warning, miss key in ckpt: modality_encoders.AUDIO.decoder.blocks.3.0.bias, /root/.cache/modelscope/hub/models/iic/emotion2vec_plus_large/model.pt\n",
            "Warning, miss key in ckpt: modality_encoders.AUDIO.decoder.proj.weight, /root/.cache/modelscope/hub/models/iic/emotion2vec_plus_large/model.pt\n",
            "Warning, miss key in ckpt: modality_encoders.AUDIO.decoder.proj.bias, /root/.cache/modelscope/hub/models/iic/emotion2vec_plus_large/model.pt\n",
            "✅ Model loaded successfully!\n"
          ]
        }
      ]
    },
    {
      "cell_type": "code",
      "source": [
        "app = Flask(__name__)\n",
        "\n",
        "@app.route(\"/predict\", methods=[\"POST\"])\n",
        "def predict():\n",
        "    try:\n",
        "        file = request.files[\"audio\"]\n",
        "        file_path = \"temp.wav\"\n",
        "        file.save(file_path)\n",
        "\n",
        "        # Run model\n",
        "        result = model.generate(file_path, granularity=\"utterance\")\n",
        "        data = result[0]\n",
        "\n",
        "        if 'predictions' in data and 'scores' in data:\n",
        "            emotions = data['predictions']\n",
        "            scores = data['scores']\n",
        "        elif 'labels' in data and 'scores' in data:\n",
        "            emotions = [e.split('/')[-1] for e in data['labels']]\n",
        "            scores = data['scores']\n",
        "        else:\n",
        "            return jsonify({\"error\": \"No 'labels' or 'predictions' found\"}), 500\n",
        "\n",
        "        best_idx = int(np.argmax(scores))\n",
        "        best_emotion = emotions[best_idx]\n",
        "        confidence = float(scores[best_idx])\n",
        "        top_emotions = sorted(zip(emotions, scores), key=lambda x: x[1], reverse=True)\n",
        "        top_emotions_json = [{\"emotion\": e, \"score\": float(s)} for e, s in top_emotions]\n",
        "\n",
        "        return jsonify({\n",
        "            \"emotion\": best_emotion,\n",
        "            \"confidence\": confidence,\n",
        "            \"topEmotions\": top_emotions_json\n",
        "        })\n",
        "\n",
        "    except Exception as e:\n",
        "        return jsonify({\"error\": str(e)}), 500\n"
      ],
      "metadata": {
        "id": "r03yVPJEnWAE"
      },
      "execution_count": 59,
      "outputs": []
    },
    {
      "cell_type": "code",
      "source": [
        "# Install pyngrok\n",
        "!pip install pyngrok\n",
        "from pyngrok import ngrok\n",
        "\n",
        "# Set ngrok authtoken\n",
        "# Replace \"YOUR_AUTH_TOKEN\" with your actual ngrok authentication token\n",
        "ngrok.set_auth_token(\"31y3EqKzzZqEmFcksJJiO0jFShJ_76ywiqbQqegsSHLULmtL\")\n",
        "\n",
        "# Start tunnel\n",
        "public_url = ngrok.connect(5001)\n",
        "print(\"🔗 Public URL:\", public_url)\n",
        "\n",
        "# Run Flask app\n",
        "app.run(port=5001)"
      ],
      "metadata": {
        "colab": {
          "base_uri": "https://localhost:8080/"
        },
        "id": "U2toJhm9nju4",
        "outputId": "d09238dc-3945-45b0-9fc5-867c450728d5"
      },
      "execution_count": null,
      "outputs": [
        {
          "output_type": "stream",
          "name": "stdout",
          "text": [
            "Requirement already satisfied: pyngrok in /usr/local/lib/python3.12/dist-packages (7.3.0)\n",
            "Requirement already satisfied: PyYAML>=5.1 in /usr/local/lib/python3.12/dist-packages (from pyngrok) (6.0.2)\n"
          ]
        },
        {
          "output_type": "stream",
          "name": "stderr",
          "text": [
            "WARNING:pyngrok.process.ngrok:t=2025-08-29T17:09:34+0000 lvl=warn msg=\"ngrok config file found at both XDG and legacy locations, using XDG location\" xdg_path=/root/.config/ngrok/ngrok.yml legacy_path=/root/.ngrok2/ngrok.yml\n"
          ]
        },
        {
          "output_type": "stream",
          "name": "stdout",
          "text": [
            "🔗 Public URL: NgrokTunnel: \"https://6ac77767e787.ngrok-free.app\" -> \"http://localhost:5001\"\n",
            " * Serving Flask app '__main__'\n",
            " * Debug mode: off\n"
          ]
        },
        {
          "output_type": "stream",
          "name": "stderr",
          "text": [
            "INFO:werkzeug:\u001b[31m\u001b[1mWARNING: This is a development server. Do not use it in a production deployment. Use a production WSGI server instead.\u001b[0m\n",
            " * Running on http://127.0.0.1:5001\n",
            "INFO:werkzeug:\u001b[33mPress CTRL+C to quit\u001b[0m\n"
          ]
        }
      ]
    }
  ]
}